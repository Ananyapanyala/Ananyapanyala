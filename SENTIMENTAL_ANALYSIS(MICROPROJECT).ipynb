{
  "nbformat": 4,
  "nbformat_minor": 0,
  "metadata": {
    "colab": {
      "provenance": [],
      "authorship_tag": "ABX9TyNIQqUi+mf8HckwDM27CzER",
      "include_colab_link": true
    },
    "kernelspec": {
      "name": "python3",
      "display_name": "Python 3"
    },
    "language_info": {
      "name": "python"
    }
  },
  "cells": [
    {
      "cell_type": "markdown",
      "metadata": {
        "id": "view-in-github",
        "colab_type": "text"
      },
      "source": [
        "<a href=\"https://colab.research.google.com/github/Ananyapanyala/Ananyapanyala/blob/main/SENTIMENTAL_ANALYSIS(MICROPROJECT).ipynb\" target=\"_parent\"><img src=\"https://colab.research.google.com/assets/colab-badge.svg\" alt=\"Open In Colab\"/></a>"
      ]
    },
    {
      "cell_type": "code",
      "source": [
        "import nltk\n",
        "import random\n",
        "from nltk.corpus import movie_reviews\n",
        "from nltk.tokenize import word_tokenize\n",
        "from sklearn.model_selection import train_test_split\n",
        "from sklearn.feature_extraction import DictVectorizer\n",
        "from sklearn.naive_bayes import MultinomialNB\n",
        "from sklearn.metrics import accuracy_score, classification_report, confusion_matrix\n",
        "\n",
        "# Download the movie_reviews corpus if not already present\n",
        "nltk.download('movie_reviews')\n",
        "nltk.download('punkt')\n",
        "\n",
        "# Prepare the dataset\n",
        "documents = [(list(word_tokenize(movie_reviews.raw(fileid))), category)\n",
        "             for category in movie_reviews.categories()\n",
        "             for fileid in movie_reviews.fileids(category)]\n",
        "\n",
        "# Shuffle the documents randomly to ensure proper training and testing split\n",
        "random.shuffle(documents)\n",
        "\n",
        "# Feature extraction and preparation\n",
        "all_words = [word.lower() for review, _ in documents for word in review]\n",
        "all_words = nltk.FreqDist(all_words)\n",
        "\n",
        "# Choose a certain number of top words as features\n",
        "top_words = 3000\n",
        "word_features = list(all_words.keys())[:top_words]\n",
        "\n",
        "def document_features(document):\n",
        "    document_words = set(document)\n",
        "    features = {}\n",
        "    for word in word_features:\n",
        "        features[word] = (word in document_words)\n",
        "    return features\n",
        "\n",
        "# Convert text data into numerical features\n",
        "featuresets = [(document_features(review), category) for (review, category) in documents]\n",
        "\n",
        "# Split the data into training and testing sets\n",
        "train_set, test_set = train_test_split(featuresets, test_size=0.2, random_state=42)\n",
        "\n",
        "# Train the Naive Bayes classifier\n",
        "classifier = MultinomialNB()\n",
        "\n",
        "X_train, y_train = zip(*train_set)\n",
        "X_train = [dict(review) for review in X_train]  # Convert to list of dictionaries\n",
        "\n",
        "# Convert the features to a numeric representation\n",
        "vectorizer = DictVectorizer(sparse=False)\n",
        "X_train = vectorizer.fit_transform(X_train)\n",
        "\n",
        "classifier.fit(X_train, y_train)\n",
        "\n",
        "# Test the classifier\n",
        "X_test, y_test = zip(*test_set)\n",
        "X_test = [dict(review) for review in X_test]  # Convert to list of dictionaries\n",
        "\n",
        "# Convert the test features to a numeric representation\n",
        "X_test = vectorizer.transform(X_test)\n",
        "\n",
        "predictions = classifier.predict(X_test)\n",
        "\n",
        "# Evaluate the model\n",
        "accuracy = accuracy_score(y_test, predictions)\n",
        "print(f\"Accuracy: {accuracy:.2f}\")\n",
        "\n",
        "print(\"\\nClassification Report:\")\n",
        "print(classification_report(y_test, predictions))\n",
        "\n",
        "print(\"\\nConfusion Matrix:\")\n",
        "print(confusion_matrix(y_test, predictions))\n"
      ],
      "metadata": {
        "colab": {
          "base_uri": "https://localhost:8080/"
        },
        "id": "MLklrhfJFLSs",
        "outputId": "1eaa5826-5ec0-4906-aaaa-abb620b64d37"
      },
      "execution_count": 11,
      "outputs": [
        {
          "output_type": "stream",
          "name": "stderr",
          "text": [
            "[nltk_data] Downloading package movie_reviews to /root/nltk_data...\n",
            "[nltk_data]   Package movie_reviews is already up-to-date!\n",
            "[nltk_data] Downloading package punkt to /root/nltk_data...\n",
            "[nltk_data]   Package punkt is already up-to-date!\n"
          ]
        },
        {
          "output_type": "stream",
          "name": "stdout",
          "text": [
            "Accuracy: 0.80\n",
            "\n",
            "Classification Report:\n",
            "              precision    recall  f1-score   support\n",
            "\n",
            "         neg       0.78      0.83      0.80       195\n",
            "         pos       0.83      0.77      0.80       205\n",
            "\n",
            "    accuracy                           0.80       400\n",
            "   macro avg       0.80      0.80      0.80       400\n",
            "weighted avg       0.80      0.80      0.80       400\n",
            "\n",
            "\n",
            "Confusion Matrix:\n",
            "[[162  33]\n",
            " [ 47 158]]\n"
          ]
        }
      ]
    }
  ]
}